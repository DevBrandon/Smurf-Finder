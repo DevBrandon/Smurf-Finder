{
 "cells": [
  {
   "cell_type": "markdown",
   "metadata": {},
   "source": [
    "# Smurf Predictor | Brandon Jackson || Richard Tang\n",
    "# This ambitious data science experiment's goal is to: given an input (summoner name), return a list of possible smurfs of that account. This project as inspried by an interview I watched with Team Liquid's coach Steve mentioned that when teams are scouting players they often need to get a full list of smurf accounts.\n",
    "****\n",
    "# For those of you who do not play the game League of Ledgends, often times a high elo (the rating system for the game) create smurf accounts to practise new champions or get lower queue time (since they must be matched up with players of their skill level as you climb the elo ladder you have fewer players as good as you). You may also want to hide a pocket pick you may bring out in the LCS/LCK/LPL/LMS/etc... So there is insentive for coaches to want to know who other players may be practising on as well as recruits they may be scouting and want to get a fuller picture. Out of respect for player's who want to hide their smurf some code that would be avalible to pulbic on github will not be posted. However, if you are a coach or team looking for software like this please contact me at Brandon@devbjax.com(Prefered) || Bjax@cs.umd.edu.\n",
    "\n",
    "imporvements, find know list of player smurf to get data like off role champoins and builds"
   ]
  },
  {
   "cell_type": "code",
   "execution_count": 1,
   "metadata": {},
   "outputs": [
    {
     "name": "stdout",
     "output_type": "stream",
     "text": [
      "Collecting riotwatcher\n",
      "  Downloading https://files.pythonhosted.org/packages/13/c4/96382da504983ac905760d500751e24341d156c157ad8b440ba537000964/riotwatcher-2.4.0-py2.py3-none-any.whl (50kB)\n",
      "Requirement already satisfied: requests in c:\\users\\user\\anaconda3\\lib\\site-packages (from riotwatcher) (2.20.1)\n",
      "Requirement already satisfied: certifi>=2017.4.17 in c:\\users\\user\\anaconda3\\lib\\site-packages (from requests->riotwatcher) (2018.10.15)\n",
      "Requirement already satisfied: chardet<3.1.0,>=3.0.2 in c:\\users\\user\\anaconda3\\lib\\site-packages (from requests->riotwatcher) (3.0.4)\n",
      "Requirement already satisfied: idna<2.8,>=2.5 in c:\\users\\user\\anaconda3\\lib\\site-packages (from requests->riotwatcher) (2.7)\n",
      "Requirement already satisfied: urllib3<1.25,>=1.21.1 in c:\\users\\user\\anaconda3\\lib\\site-packages (from requests->riotwatcher) (1.23)\n",
      "Installing collected packages: riotwatcher\n",
      "Successfully installed riotwatcher-2.4.0\n"
     ]
    }
   ],
   "source": [
    "!pip install riotwatcher"
   ]
  },
  {
   "cell_type": "markdown",
   "metadata": {},
   "source": [
    "# Test the API wrapper"
   ]
  },
  {
   "cell_type": "code",
   "execution_count": 11,
   "metadata": {},
   "outputs": [
    {
     "name": "stdout",
     "output_type": "stream",
     "text": [
      "{'id': 20132258, 'accountId': 32971449, 'name': 'Doublelift', 'profileIconId': 3270, 'revisionDate': 1542857363000, 'summonerLevel': 97}\n",
      "[{'leagueId': 'bb7f45c3-66d1-3b22-bc68-7a6c65b38c4e', 'leagueName': \"Maokai's Brutes\", 'tier': 'MASTER', 'queueType': 'RANKED_SOLO_5x5', 'rank': 'I', 'playerOrTeamId': '20132258', 'playerOrTeamName': 'Doublelift', 'leaguePoints': 158, 'wins': 247, 'losses': 213, 'veteran': False, 'inactive': False, 'freshBlood': False, 'hotStreak': False}]\n"
     ]
    }
   ],
   "source": [
    "from riotwatcher import RiotWatcher\n",
    "import time\n",
    "#Need to generate a new riot API key every 24 hours\n",
    "watcher = RiotWatcher('RGAPI-567562c0-c1fe-4b3e-bcfe-71641292758a')\n",
    "\n",
    "my_region = 'na1'\n",
    "\n",
    "me = watcher.summoner.by_name(my_region, 'doublelift')\n",
    "print(me)\n",
    "\n",
    "# all objects are returned (by default) as a dict\n",
    "# lets see if i got diamond yet (i probably didnt)\n",
    "my_ranked_stats = watcher.league.positions_by_summoner(my_region, me['id'])\n",
    "print(my_ranked_stats)\n",
    "# time.sleep(60)\n",
    "\n",
    "# Error checking requires importing HTTPError from requests\n",
    "\n",
    "from requests import HTTPError\n",
    "\n",
    "# For Riot's API, the 404 status code indicates that the requested data wasn't found and\n",
    "# should be expected to occur in normal operation, as in the case of a an\n",
    "# invalid summoner name, match ID, etc.\n",
    "#\n",
    "# The 429 status code indicates that the user has sent too many requests\n",
    "# in a given amount of time (\"rate limiting\").\n",
    "\n",
    "try:\n",
    "    response = watcher.summoner.by_name(my_region, 'doublelift')\n",
    "except HTTPError as err:\n",
    "    if err.response.status_code == 429:\n",
    "        print('We should retry in {} seconds.'.format(e.headers['Retry-After']))\n",
    "        print('this retry-after is handled by default by the RiotWatcher library')\n",
    "        print('future requests wait until the retry-after time passes')\n",
    "    elif err.response.status_code == 404:\n",
    "        print('Summoner with that ridiculous name not found.')\n",
    "    else:\n",
    "        raise"
   ]
  },
  {
   "cell_type": "markdown",
   "metadata": {},
   "source": [
    "### If you only need to know, which champions a summoner plays in general a good approximation would be to use the champion-mastery scores\n",
    "\n",
    "### /lol/champion-mastery/v3/scores/by-summoner/{summonerId}\n",
    "****\n",
    "### For exact numbers, you can get the matchlist entries, as they include the champion id played\n",
    "\n",
    "### /lol/match/v3/matchlists/by-account/{accountId}\n",
    "\n",
    "### /lol/spectator/v3/active-games/by-summoner/{summonerId} Get current game information for the given summoner ID\n",
    "\n",
    "Use http://api.champion.gg/docs/ to compare common builds and find outlier items and build paths\n",
    "\n",
    "# EDA (Explority Data Analysis)"
   ]
  },
  {
   "cell_type": "code",
   "execution_count": null,
   "metadata": {},
   "outputs": [],
   "source": []
  }
 ],
 "metadata": {
  "kernelspec": {
   "display_name": "Python 3",
   "language": "python",
   "name": "python3"
  },
  "language_info": {
   "codemirror_mode": {
    "name": "ipython",
    "version": 3
   },
   "file_extension": ".py",
   "mimetype": "text/x-python",
   "name": "python",
   "nbconvert_exporter": "python",
   "pygments_lexer": "ipython3",
   "version": "3.6.7"
  }
 },
 "nbformat": 4,
 "nbformat_minor": 2
}
